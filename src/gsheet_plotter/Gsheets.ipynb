{
 "cells": [
  {
   "cell_type": "code",
   "execution_count": 1,
   "metadata": {},
   "outputs": [],
   "source": [
    "import os\n",
    "# ^^^ pyforest auto-imports - don't write above this line\n",
    "from gsheets import Sheets\n",
    "import matplotlib.pyplot as plt\n",
    "\n",
    "class GsheetPlotter:\n",
    "\n",
    "    def __init__(self,client_secrets):\n",
    "        try:\n",
    "            self.sheets=Sheets.from_files(client_secrets)\n",
    "            self.sheet=None\n",
    "            self.worksheet=None\n",
    "        except:\n",
    "            print(\"Credential file error\")\n",
    "    \n",
    "    def get_sheet_by_url(self,sheet_url):\n",
    "        try:\n",
    "            sheet=self.sheets.get(sheet_url)\n",
    "            if sheet is None:\n",
    "                print(\"Sheet with url {} does not exist.\".format(sheet_url))\n",
    "            else:\n",
    "                print(\"Sheet is successfully loaded.\")\n",
    "                self.sheet=sheet\n",
    "        except:\n",
    "            print(\"Sheet with url {} does not exist.\".format(sheet_url))\n",
    "    \n",
    "    def get_sheet_by_id(self,sheet_id):\n",
    "        try:\n",
    "            sheet=self.sheets[sheet_id]\n",
    "            print(\"Sheet is successfully loaded.\")\n",
    "            self.sheet=sheet\n",
    "        except:\n",
    "            print(\"Sheet with id {} does not exist.\".format(sheet_id))\n",
    "    \n",
    "    def get_worksheet_by_name(self,sheet_name):\n",
    "        try:\n",
    "            worksheet=self.sheet.find(sheet_name)\n",
    "            try:\n",
    "                self.worksheet =worksheet.to_frame()\n",
    "            except:\n",
    "                print(\"Worksheet with name '{}' has no data to fetch.\".format(sheet_name))\n",
    "        except:\n",
    "            print(self.worksheet)\n",
    "            print(\"Worksheet with name '{}' does not exist.\".format(sheet_name))\n",
    "    \n",
    "    def get_worksheet_by_index(self,sheet_index):\n",
    "        try:\n",
    "            worksheet=self.sheet.sheets[sheet_index]\n",
    "            try:\n",
    "                self.worksheet=worksheet.to_frame()\n",
    "            except:\n",
    "                print(\"Worksheet at index {} has no data to fetch.\".format(sheet_index))\n",
    "        except:\n",
    "            print(\"Worksheet at index {} does not exist.\".format(sheet_index))\n",
    "    \n",
    "    def plot_graph(self,x_col_name,y_col_name):\n",
    "        try:\n",
    "            plt.plot(self.worksheet[x_col_name],self.worksheet[y_col_name])\n",
    "            filename=x_col_name + '_' + y_col_name + '.png'\n",
    "            plt.savefig(filename)\n",
    "            print(\"Your graph is saved as '{}'\".format(filename))\n",
    "        except:\n",
    "            print(\"Column does not exist.\")"
   ]
  },
  {
   "cell_type": "code",
   "execution_count": 2,
   "metadata": {},
   "outputs": [
    {
     "name": "stdout",
     "output_type": "stream",
     "text": [
      "Enter your urlhttps://docs.google.com/spreadsheets/d/1SrZfvr2ee54r7HR1jGtAE9zHIj_Y-UzK9ok8bdwkpqc/edit#gid=0\n",
      "Sheet is successfully loaded.\n",
      "Enter nameSheet1\n",
      "Your graph is saved as 'timestamp_average_sales.png'\n"
     ]
    },
    {
     "data": {
      "image/png": "[encoded data removed]",
      "text/plain": [
       "<Figure size 432x288 with 1 Axes>"
      ]
     },
     "metadata": {
      "needs_background": "light"
     },
     "output_type": "display_data"
    }
   ],
   "source": [
    "plotter=GsheetPlotter('client_secrets.json')\n",
    "url=input(\"Enter your url\")\n",
    "plotter.get_sheet_by_url(url)\n",
    "sheet=input(\"Enter name\")\n",
    "plotter.get_worksheet_by_name(sheet)\n",
    "plotter.plot_graph('timestamp','average_sales')"
   ]
  },
  {
   "cell_type": "markdown",
   "metadata": {},
   "source": [
    "### ----------NEW CODE-------_#"
   ]
  },
  {
   "cell_type": "code",
   "execution_count": 3,
   "metadata": {},
   "outputs": [],
   "source": [
    "from gsheets import Sheets\n",
    "import matplotlib.pyplot as plt\n",
    "import os.path"
   ]
  },
  {
   "cell_type": "code",
   "execution_count": 33,
   "metadata": {},
   "outputs": [],
   "source": [
    "class gSheet_plotter(object):\n",
    "    def __init__(self,client_secret):\n",
    "        if os.path.exists(client_secret):\n",
    "            self.sheets=Sheets.from_files(client_secret)\n",
    "            self.sheet=None\n",
    "            self.worksheet=None\n",
    "            print(\"Client secret validated\")\n",
    "        else:\n",
    "            print(\"Invalid Client secret\")\n",
    "            exit(1)\n",
    "    def access_sheet(self,workbook_url,sheet_name):\n",
    "        try:\n",
    "            sheet=self.sheets.get(workbook_url)\n",
    "            if sheet is None:\n",
    "                print(\"Invalid URL or you don't have permission to access spreadsheet.\")\n",
    "                exit(1)\n",
    "            else:\n",
    "                print(\"Sheet successfully loaded.\")\n",
    "                #self.sheet=sheet\n",
    "        except:\n",
    "            print(\"Invalid URL or you don't have permission to access spreadsheet.\")\n",
    "            exit(1)\n",
    "            \n",
    "            # Access Workbook now\n",
    "            \n",
    "            #_----------Problem Here---_____#\n",
    "        try:\n",
    "            worksheet=self.sheet.find(sheet_name)\n",
    "            print(worksheet)\n",
    "            try:\n",
    "                self.worksheet = worksheet.to_frame()\n",
    "                print(\"File accessed.\")\n",
    "                #return self.worksheet\n",
    "            except:\n",
    "                print(\"Worksheet with name '{}' has no data to fetch.\".format(sheet_name))\n",
    "                exit(1)\n",
    "        except:\n",
    "            print(self.worksheet)\n",
    "            print(\"Worksheet with name '{}' does not exist.\".format(sheet_name))\n",
    "            exit(1)\n",
    "        \n",
    "        \n",
    "        \n",
    "        "
   ]
  },
  {
   "cell_type": "code",
   "execution_count": 34,
   "metadata": {},
   "outputs": [
    {
     "data": {
      "application/javascript": [
       "\n",
       "        if (window._pyforest_update_imports_cell) { window._pyforest_update_imports_cell('import os'); }\n",
       "    "
      ],
      "text/plain": [
       "<IPython.core.display.Javascript object>"
      ]
     },
     "metadata": {},
     "output_type": "display_data"
    },
    {
     "name": "stdout",
     "output_type": "stream",
     "text": [
      "Client secret validated\n"
     ]
    }
   ],
   "source": [
    "test = gSheet_plotter(\"client_secrets.json\")"
   ]
  },
  {
   "cell_type": "code",
   "execution_count": 35,
   "metadata": {},
   "outputs": [
    {
     "name": "stdout",
     "output_type": "stream",
     "text": [
      "Sheet successfully loaded.\n",
      "None\n",
      "Worksheet with name 'Sheet1' does not exist.\n"
     ]
    }
   ],
   "source": [
    "test.access_sheet(\"https://docs.google.com/spreadsheets/d/1SrZfvr2ee54r7HR1jGtAE9zHIj_Y-UzK9ok8bdwkpqc/edit#gid=0\",\"Sheet1\")"
   ]
  },
  {
   "cell_type": "code",
   "execution_count": null,
   "metadata": {},
   "outputs": [],
   "source": []
  }
 ],
 "metadata": {
  "kernelspec": {
   "display_name": "Python 3",
   "language": "python",
   "name": "python3"
  },
  "language_info": {
   "codemirror_mode": {
    "name": "ipython",
    "version": 3
   },
   "file_extension": ".py",
   "mimetype": "text/x-python",
   "name": "python",
   "nbconvert_exporter": "python",
   "pygments_lexer": "ipython3",
   "version": "3.7.4"
  }
 },
 "nbformat": 4,
 "nbformat_minor": 2
}
