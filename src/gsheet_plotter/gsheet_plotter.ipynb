{
 "cells": [
  {
   "cell_type": "code",
   "execution_count": 17,
   "metadata": {},
   "outputs": [],
   "source": [
    "from gsheet_api import GSheetAPI\n",
    "import os.path\n",
    "import matplotlib.pyplot as plt"
   ]
  },
  {
   "cell_type": "code",
   "execution_count": 35,
   "metadata": {},
   "outputs": [],
   "source": [
    "CREDS = 'client_secret.json'\n",
    "WORKBOOK_ID = '1SrZfvr2ee54r7HR1jGtAE9zHIj_Y-UzK9ok8bdwkpqc'\n",
    "SHEET_NAME = 'Sheet1'"
   ]
  },
  {
   "cell_type": "code",
   "execution_count": 58,
   "metadata": {},
   "outputs": [],
   "source": [
    "class gSheet_plotter(object):\n",
    "    def __init__(self,creds,workbook_id,sheet_name):\n",
    "        self.creds = creds\n",
    "        self.workbook_id = workbook_id\n",
    "        self.sheet_name = sheet_name\n",
    "    def plot_sheet(self,col_list,header,evaluate_formulas):\n",
    "        self.col_list = col_list\n",
    "        self.header = header\n",
    "        self.evaluate_formulas = evaluate_formulas\n",
    "        if not os.path.exists(self.creds):\n",
    "            print(\"Credentials file does not exist.\")\n",
    "            exit(1)\n",
    "        else:\n",
    "            try:\n",
    "                sheet = GSheetAPI(self.creds,self.workbook_id,self.sheet_name)\n",
    "                print(sheet)\n",
    "                df = sheet.sheet_to_df(self.col_list,self.header,self.evaluate_formulas)\n",
    "                print((df))\n",
    "                plt.plot(df[0],df[1])\n",
    "            except:\n",
    "                print(\"Sheet not found or invalid permissions.\")\n",
    "            \n",
    "            \n",
    "            \n",
    "            \n",
    "                "
   ]
  },
  {
   "cell_type": "code",
   "execution_count": 59,
   "metadata": {},
   "outputs": [],
   "source": [
    "mysheet = gSheet_plotter(creds=CREDS,workbook_id=WORKBOOK_ID,sheet_name=SHEET_NAME)"
   ]
  },
  {
   "cell_type": "code",
   "execution_count": 60,
   "metadata": {},
   "outputs": [
    {
     "name": "stderr",
     "output_type": "stream",
     "text": [
      "INFO:gsheet_api.gsheet_api:Working sheet set to tab `Sheet1` of `Greendeck SE Assignment Task 2`\n"
     ]
    },
    {
     "name": "stdout",
     "output_type": "stream",
     "text": [
      "<gsheet_api.gsheet_api.GSheetAPI object at 0x7fe0a259ea10>\n",
      "      timestamp  average_sales\n",
      "0    1506317777         826951\n",
      "1    1506231377         311342\n",
      "2    1506144977         537960\n",
      "3    1506058577         971972\n",
      "4    1505972177         623545\n",
      "..          ...            ...\n",
      "995  1420349777         337800\n",
      "996  1420263377         797993\n",
      "997  1420176977         384228\n",
      "998  1420090577          11833\n",
      "999  1420004177         182653\n",
      "\n",
      "[1000 rows x 2 columns]\n",
      "Sheet not found or invalid permissions.\n"
     ]
    }
   ],
   "source": [
    "mysheet.plot_sheet([0,1],header=0,evaluate_formulas=False)"
   ]
  },
  {
   "cell_type": "code",
   "execution_count": null,
   "metadata": {},
   "outputs": [],
   "source": []
  }
 ],
 "metadata": {
  "kernelspec": {
   "display_name": "Python 3",
   "language": "python",
   "name": "python3"
  },
  "language_info": {
   "codemirror_mode": {
    "name": "ipython",
    "version": 3
   },
   "file_extension": ".py",
   "mimetype": "text/x-python",
   "name": "python",
   "nbconvert_exporter": "python",
   "pygments_lexer": "ipython3",
   "version": "3.7.4"
  }
 },
 "nbformat": 4,
 "nbformat_minor": 2
}
